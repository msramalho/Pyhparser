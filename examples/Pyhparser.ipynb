{
  "nbformat": 4,
  "nbformat_minor": 0,
  "metadata": {
    "colab": {
      "name": "Pyhparser",
      "version": "0.3.2",
      "views": {},
      "default_view": {},
      "provenance": [
        {
          "file_id": "/v2/external/notebooks/snippets/importing_libraries.ipynb",
          "timestamp": 1516324946619
        }
      ],
      "collapsed_sections": []
    },
    "kernelspec": {
      "display_name": "Python 3",
      "name": "python3"
    }
  },
  "cells": [
    {
      "metadata": {
        "id": "iDu3Slhq2zyh",
        "colab_type": "text"
      },
      "source": [
        "# Installing Pyhparser\n",
        "\n",
        "[Pyhparser](https://github.com/msramalho/Pyhparser)."
      ],
      "cell_type": "markdown"
    },
    {
      "metadata": {
        "id": "6km1lWMF2kAm",
        "colab_type": "code",
        "colab": {
          "autoexec": {
            "startup": false,
            "wait_interval": 0
          },
          "output_extras": [
            {
              "item_id": 5
            }
          ],
          "base_uri": "https://localhost:8080/",
          "height": 114
        },
        "outputId": "bac1e5b9-47ad-438a-e334-f10ce02adf08",
        "executionInfo": {
          "status": "ok",
          "timestamp": 1516326939378,
          "user_tz": 0,
          "elapsed": 12897,
          "user": {
            "displayName": "",
            "photoUrl": "",
            "userId": ""
          }
        }
      },
      "source": [
        "# To install the most recent version\n",
        "!pip install git+https://github.com/msramalho/pyhparser --upgrade\n"
      ],
      "cell_type": "code",
      "execution_count": 1,
      "outputs": [
        {
          "output_type": "stream",
          "text": [
            "Collecting git+https://github.com/msramalho/pyhparser\r\n",
            "  Cloning https://github.com/msramalho/pyhparser to /tmp/pip-todpgknc-build\n",
            "Requirement already up-to-date: pyparsing in /usr/local/lib/python3.6/dist-packages (from pyhparser==1.0)\n",
            "Installing collected packages: pyhparser\n",
            "  Running setup.py install for pyhparser ... \u001b[?25l-\b \bdone\n",
            "\u001b[?25hSuccessfully installed pyhparser-1.0\n"
          ],
          "name": "stdout"
        }
      ]
    },
    {
      "metadata": {
        "id": "xHTREOst-BsF",
        "colab_type": "text"
      },
      "source": [
        "## Import pyhparser\n",
        "And one useful function that comes with it (`readFile`)"
      ],
      "cell_type": "markdown"
    },
    {
      "metadata": {
        "id": "s2F400JH-H_p",
        "colab_type": "code",
        "colab": {
          "autoexec": {
            "startup": false,
            "wait_interval": 0
          }
        }
      },
      "source": [
        "from pyhparser import Pyhparser, readFile"
      ],
      "cell_type": "code",
      "execution_count": 0,
      "outputs": []
    },
    {
      "metadata": {
        "id": "M5YM0DkH9BtN",
        "colab_type": "text"
      },
      "source": [
        "## Hello World\n",
        "Readin an int into a variable `n` that can later be used"
      ],
      "cell_type": "markdown"
    },
    {
      "metadata": {
        "id": "6WeooWc28IBn",
        "colab_type": "code",
        "colab": {
          "autoexec": {
            "startup": false,
            "wait_interval": 0
          },
          "output_extras": [
            {
              "item_id": 1
            }
          ],
          "base_uri": "https://localhost:8080/",
          "height": 84
        },
        "outputId": "9bc0825e-0b87-4e39-cd6e-bcdbb52c0a3f",
        "executionInfo": {
          "status": "ok",
          "timestamp": 1516326949979,
          "user_tz": 0,
          "elapsed": 566,
          "user": {
            "displayName": "",
            "photoUrl": "",
            "userId": ""
          }
        }
      },
      "source": [
        "inputVar = \"10\"                                #if the data is in a file do readFile(\"input.txt\")\n",
        "parserVar = \"(int, n)\"                         #if the parser is in a file do readFile(\"parser.txt\")\n",
        "\n",
        "p = Pyhparser(inputVar, parserVar)             #create a pyhparser instance\n",
        "p.parse()                                      #execute the parsing\n",
        "p.printRecursive(p.parserRead)                 #display the parse grammar hierarchy\n",
        "tempGlobals = p.getVariables()                 #get the values of the created variables\n",
        "for key, value in tempGlobals.items():\n",
        "    globals()[key] = value                     #make the created var acessible from every scope\n",
        "print(n)                                       #print the value of n, the parsed variable"
      ],
      "cell_type": "code",
      "execution_count": 3,
      "outputs": [
        {
          "output_type": "stream",
          "text": [
            "primitive: ['int', 'n']\n",
            "    Leaf: int\n",
            "    Leaf: n\n",
            "10\n"
          ],
          "name": "stdout"
        }
      ]
    },
    {
      "metadata": {
        "id": "T9GGZKSo9Lzo",
        "colab_type": "text"
      },
      "source": [
        "## Multiple data types example\n",
        "Requires:\n",
        " - Input data\n",
        " - Parser format\n",
        " - Python code that invokes Pyhparser"
      ],
      "cell_type": "markdown"
    },
    {
      "metadata": {
        "id": "XGRrP3Bw9Xd-",
        "colab_type": "code",
        "colab": {
          "autoexec": {
            "startup": false,
            "wait_interval": 0
          }
        }
      },
      "source": [
        "inputText = \"\"\"\n",
        "3 Bartholomew JoJo Simpson\n",
        "101 120 5455\n",
        "Andrew American\n",
        "Bernard Bolivian\n",
        "Carl Canadian\n",
        "10 11 12\n",
        "20 21 22\n",
        "30 31 32\n",
        "69 lol\n",
        "169 lel\n",
        "333 threeHundredAndThirtyThree\n",
        "666 sixHundredAndSixtySix\n",
        "this is my first tuple\n",
        "5\n",
        "3 limited to three\n",
        "2 only two\n",
        "2 two more\n",
        "6 what a big old string list\n",
        "8 this sentence is the biggest of them all\n",
        "10.23 55\n",
        "3.141592653 70 1300      veryNice\n",
        "3.141592653 70 4 string with four    words\n",
        "\"\"\""
      ],
      "cell_type": "code",
      "execution_count": 0,
      "outputs": []
    },
    {
      "metadata": {
        "id": "YjTLtD9d9o6j",
        "colab_type": "code",
        "colab": {
          "autoexec": {
            "startup": false,
            "wait_interval": 0
          }
        }
      },
      "source": [
        "parserText = \"\"\"\n",
        "(int, n) (str, name, {n})\n",
        "[list, {n}, (int), myInts]\n",
        "[list, {n}, (str, 2), Names]\n",
        "\n",
        "[list, {n},\n",
        "    [list, {n}, (int)]\n",
        ",Numbers]\n",
        "{(int), (str), myDicts, 2}\n",
        "\n",
        "[list, 2, {(int), (str)}, myDictsList]\n",
        "[tuple, 5, (str), myTuple]\n",
        "\n",
        "(int, total)\n",
        "[list, {total}, {(int, sizeOfLine), (str, {sizeOfLine})}, sizesList]\n",
        "\n",
        "#classes\n",
        "[class, Complex, {realpart: (float), imagpart: (int)}, cn1]\n",
        "[class, Complex, {realpart: (float), imagpart: (int), special: {(int), (str)}}, cn2]\n",
        "[class, Complex, {realpart: (float), imagpart: (int), special: {(int, myInt), (str, {myInt})}}, cn3]\n",
        "\"\"\""
      ],
      "cell_type": "code",
      "execution_count": 0,
      "outputs": []
    },
    {
      "metadata": {
        "id": "KCzS7yAH91bu",
        "colab_type": "text"
      },
      "source": [
        "### Define the Complex class used to parse the data"
      ],
      "cell_type": "markdown"
    },
    {
      "metadata": {
        "id": "rg-MMGVY9ukC",
        "colab_type": "code",
        "colab": {
          "autoexec": {
            "startup": false,
            "wait_interval": 0
          }
        }
      },
      "source": [
        "class Complex:\n",
        "    def __init__(self, realpart, imagpart, special = \"not special\"):\n",
        "        self.realpart = realpart\n",
        "        self.imagpart = imagpart\n",
        "        self.special = special\n",
        "    def __str__(self):\n",
        "         return (\"%s Is the special of %di + %d\" % (self.special, self.realpart, self.imagpart))"
      ],
      "cell_type": "code",
      "execution_count": 0,
      "outputs": []
    },
    {
      "metadata": {
        "id": "ih6Anqgp-P1a",
        "colab_type": "code",
        "colab": {
          "autoexec": {
            "startup": false,
            "wait_interval": 0
          },
          "output_extras": [
            {
              "item_id": 1
            }
          ],
          "base_uri": "https://localhost:8080/",
          "height": 38
        },
        "outputId": "1fcfd759-a440-46eb-d22f-36653151c4b4",
        "executionInfo": {
          "status": "ok",
          "timestamp": 1516326961843,
          "user_tz": 0,
          "elapsed": 763,
          "user": {
            "displayName": "",
            "photoUrl": "",
            "userId": ""
          }
        }
      },
      "source": [
        "p = Pyhparser(inputText, parserText, [Complex]) #create a pyhparser instance\n",
        "p.parse()                                       #execute the parsing\n",
        "#p.printRecursive(p.parserRead)                 #display the parse grammar hierarchy\n",
        "tempGlobals = p.getVariables()                  #get the values of the created variables\n",
        "for key, value in tempGlobals.items():\n",
        "    globals()[key] = value                      #make the created var acessible from every scope\n",
        "print(cn3)"
      ],
      "cell_type": "code",
      "execution_count": 7,
      "outputs": [
        {
          "output_type": "stream",
          "text": [
            "{4: 'string with four words'} Is the special of 3i + 70\n"
          ],
          "name": "stdout"
        }
      ]
    }
  ]
}